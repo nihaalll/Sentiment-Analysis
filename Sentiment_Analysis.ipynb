{
  "nbformat": 4,
  "nbformat_minor": 0,
  "metadata": {
    "colab": {
      "provenance": [],
      "authorship_tag": "ABX9TyPramxYdxOSE/h2nTLJvIZ/",
      "include_colab_link": true
    },
    "kernelspec": {
      "name": "python3",
      "display_name": "Python 3"
    },
    "language_info": {
      "name": "python"
    }
  },
  "cells": [
    {
      "cell_type": "markdown",
      "metadata": {
        "id": "view-in-github",
        "colab_type": "text"
      },
      "source": [
        "<a href=\"https://colab.research.google.com/github/nihaalll/Sentiment-Analysis/blob/main/Sentiment_Analysis.ipynb\" target=\"_parent\"><img src=\"https://colab.research.google.com/assets/colab-badge.svg\" alt=\"Open In Colab\"/></a>"
      ]
    },
    {
      "cell_type": "code",
      "execution_count": null,
      "metadata": {
        "id": "kI4T9M--7Z82"
      },
      "outputs": [],
      "source": [
        "from textblob import TextBlob as tb"
      ]
    },
    {
      "cell_type": "code",
      "source": [
        "def sentiment_analysis(text):\n",
        "    text = input('Enter your statement : ')\n",
        "    blob = tb(text)\n",
        "    polarity = blob.sentiment.polarity\n",
        "    if polarity > 0:\n",
        "        return 'positive'\n",
        "    elif polarity < 0:\n",
        "        return 'negative'\n",
        "    else:\n",
        "        return 'neutral'\n",
        "\n",
        "    blob = tb(text)\n",
        "    sentiment = blob.sentiment\n",
        "    if sentiment.polarity > 0:\n",
        "        print('Positive')\n",
        "    elif sentiment.polarity < 0:\n",
        "        print('Negative')\n",
        "    else:\n",
        "        print('Neutral')\n",
        "\n",
        "sentiment =  sentiment_analysis(text)\n",
        "\n",
        "print(f\"The polarity/sentiment of the statement is : {sentiment} \")"
      ],
      "metadata": {
        "id": "wpRB6KikBsOB",
        "colab": {
          "base_uri": "https://localhost:8080/"
        },
        "outputId": "22634842-c579-49b9-d0e9-fa7b1ad8e0ce"
      },
      "execution_count": 33,
      "outputs": [
        {
          "output_type": "stream",
          "name": "stdout",
          "text": [
            "Enter your statement : That was an amazing experience\n",
            "The polarity/sentiment of the statement is : positive \n"
          ]
        }
      ]
    }
  ]
}